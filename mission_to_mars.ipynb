{
 "cells": [
  {
   "cell_type": "code",
   "execution_count": 1,
   "metadata": {},
   "outputs": [],
   "source": [
    "import os\n",
    "import time\n",
    "import requests\n",
    "import pymongo\n",
    "import pandas as pd\n",
    "from bs4 import BeautifulSoup as bs\n",
    "from splinter import Browser\n",
    "from splinter.exceptions import ElementDoesNotExist"
   ]
  },
  {
   "cell_type": "code",
   "execution_count": 2,
   "metadata": {},
   "outputs": [],
   "source": [
    "titles = []\n",
    "teasers = []\n",
    "tweets = []\n",
    "hemisphere_image_urls = []\n",
    "\n",
    "news_title = \"\"\n",
    "news_p = \"\"\n",
    "mars_weather = \"\""
   ]
  },
  {
   "cell_type": "code",
   "execution_count": 3,
   "metadata": {},
   "outputs": [],
   "source": [
    "executable_path = {'executable_path': 'chromedriver.exe'}\n",
    "browser = Browser('chrome', **executable_path, headless=False)"
   ]
  },
  {
   "cell_type": "code",
   "execution_count": 4,
   "metadata": {
    "scrolled": true
   },
   "outputs": [],
   "source": [
    "url = 'https://mars.nasa.gov/news/?page=0&per_page=40&order=publish_date+desc%2Ccreated_at+desc&search=&category=19%2C165%2C184%2C204&blank_scope=Latest'\n",
    "\n",
    "browser.visit(url)\n",
    "\n",
    "html = browser.html\n",
    "\n",
    "soup = bs(html, 'html.parser')\n"
   ]
  },
  {
   "cell_type": "code",
   "execution_count": 5,
   "metadata": {},
   "outputs": [
    {
     "name": "stdout",
     "output_type": "stream",
     "text": [
      "\n",
      "NASA Social Media and Websites Win Webby Awards :\n",
      "\n",
      "NASA's social media presence, the InSight mission social media accounts, NASA.gov and SolarSystem.NASA.gov will be honored at the 2019 Webby Awards - \"the Oscars of the Internet.\"\n",
      "____________________________________________________________________________________________\n"
     ]
    }
   ],
   "source": [
    "load = \"y\"\n",
    "\n",
    "while load == \"y\":\n",
    "\n",
    "    if(browser.is_element_present_by_tag(\"ul\", wait_time=5)):\n",
    "        \n",
    "        load = \"n\"\n",
    "\n",
    "        results = soup.find_all('div', class_='list_text')\n",
    "\n",
    "        for result in results:\n",
    "            try:\n",
    "                title = result.find('a').text\n",
    "                titles.append(title)\n",
    "                #print(f\"\\n{title}:\")\n",
    "            except ElementDoesNotExist:\n",
    "                print(\"Child tag <a> does not exist or does not have valid text.\")\n",
    "\n",
    "            try:\n",
    "                teaser = result.find(\"div\", class_=\"article_teaser_body\").text\n",
    "                teasers.append(teaser)\n",
    "                #print(f\"\\n{teaser}\\n____________________________________________________________________________________________\")\n",
    "            except ElementDoesNotExist:\n",
    "                print(\"Child tag <div, class='article_teaser_body'> does not exist or does not have valid text.\")\n",
    "                \n",
    "\n",
    "    \n",
    "    else:\n",
    "        print(\"Parent Element <ul> Not Found. The webpage has either changed or hasn't completed loading.\")\n",
    "        load = input(\"Try again: y/n?\").lower()[0]\n",
    "        \n",
    "print(f\"\\n{titles[0]}:\")\n",
    "print(f\"\\n{teasers[0]}\\n____________________________________________________________________________________________\")"
   ]
  },
  {
   "cell_type": "code",
   "execution_count": 6,
   "metadata": {},
   "outputs": [],
   "source": [
    "url = \"https://www.jpl.nasa.gov/spaceimages/?search=&category=Mars\"\n",
    "\n",
    "try:\n",
    "    browser.visit(url)\n",
    "except:\n",
    "    executable_path = {'executable_path': 'chromedriver.exe'}\n",
    "    browser = Browser('chrome', **executable_path, headless=False)\n",
    "    browser.visit(url)\n",
    "\n",
    "html = browser.html\n",
    "\n",
    "soup = bs(html, 'html.parser')"
   ]
  },
  {
   "cell_type": "code",
   "execution_count": 7,
   "metadata": {
    "scrolled": true
   },
   "outputs": [
    {
     "name": "stdout",
     "output_type": "stream",
     "text": [
      "Featured image url: https://photojournal.jpl.nasa.gov/jpeg/PIA17448.jpg\n"
     ]
    }
   ],
   "source": [
    "load = \"y\"\n",
    "\n",
    "while load == \"y\":\n",
    "\n",
    "    if(browser.is_element_present_by_id(\"page\", wait_time=5)):\n",
    "\n",
    "        load =\"n\"\n",
    "        \n",
    "        try:\n",
    "            browser.click_link_by_id('full_image')\n",
    "            time.sleep(5)\n",
    "        except:\n",
    "            print(\"id: 'full_image' was not found.\")\n",
    "\n",
    "        try:\n",
    "            browser.click_link_by_partial_text('more info')\n",
    "            time.sleep(5)\n",
    "        except:\n",
    "            print(\"'more info' tab was not found.\")\n",
    "\n",
    "        try:\n",
    "            browser.click_link_by_partial_href('//photojournal.jpl.nasa.gov/jpeg/')\n",
    "            featured_image_url = browser.url\n",
    "            print(f'Featured image url: {featured_image_url}')\n",
    "        except:\n",
    "            print(\"full_image.jpg was not found.\")\n",
    "    else:\n",
    "        print(\"id: 'page' Not Found. The webpage has either changed or hasn't completed loading.\")\n",
    "        load = input(\"Try again: y/n?\").lower()[0]"
   ]
  },
  {
   "cell_type": "code",
   "execution_count": 8,
   "metadata": {},
   "outputs": [],
   "source": [
    "url = \"https://twitter.com/marswxreport?lang=en\"\n",
    "time.sleep(5)\n",
    "\n",
    "\n",
    "try:\n",
    "    browser.visit(url)\n",
    "except:\n",
    "    executable_path = {'executable_path': 'chromedriver.exe'}\n",
    "    browser = Browser('chrome', **executable_path, headless=False)\n",
    "    browser.visit(url)\n",
    "\n",
    "html = browser.html\n",
    "\n",
    "soup = bs(html, 'html.parser')"
   ]
  },
  {
   "cell_type": "code",
   "execution_count": 9,
   "metadata": {
    "scrolled": true
   },
   "outputs": [
    {
     "name": "stdout",
     "output_type": "stream",
     "text": [
      "\n",
      "InSight sol 145 (2019-04-24) low -98.1ºC (-144.6ºF) high -19.3ºC (-2.8ºF)\n",
      "winds from the SW at 4.4 m/s (9.8 mph) gusting to 11.6 m/s (26.1 mph)\n",
      "pressure at 7.40 hPapic.twitter.com/aNZiH2H1Pm\n"
     ]
    }
   ],
   "source": [
    "load = \"y\"\n",
    "\n",
    "while load == \"y\":\n",
    "\n",
    "    if(browser.is_element_present_by_tag(\"ol\", wait_time=5)):\n",
    "        \n",
    "        load = \"n\"\n",
    "        results = soup.find_all('div', class_='js-tweet-text-container')\n",
    "\n",
    "        for result in results:\n",
    "            try:\n",
    "                tweet = result.find('p').text\n",
    "                #print(f\"\\n{tweet}\")\n",
    "                \n",
    "                if 'InSight sol' in tweet:\n",
    "                    tweets.append(tweet)\n",
    "                    \n",
    "            except ElementDoesNotExist:\n",
    "                print(\"Child tag <p> does not exist or does not have valid text.\")\n",
    "\n",
    "    else:\n",
    "        print(\"Parent Element <ol> Not Found. The webpage has either changed or hasn't completed loading.\")\n",
    "        load = input(\"Try again: y/n?\").lower()[0]\n",
    "\n",
    "print(f\"\\n{tweets[0]}\")"
   ]
  },
  {
   "cell_type": "code",
   "execution_count": 10,
   "metadata": {},
   "outputs": [],
   "source": [
    "url = \"https://space-facts.com/mars/\"\n",
    "time.sleep(5)\n",
    "\n",
    "\n",
    "try:\n",
    "    browser.visit(url)\n",
    "except:\n",
    "    executable_path = {'executable_path': 'chromedriver.exe'}\n",
    "    browser = Browser('chrome', **executable_path, headless=False)\n",
    "    browser.visit(url)\n",
    "\n",
    "table = pd.read_html(url)"
   ]
  },
  {
   "cell_type": "code",
   "execution_count": 11,
   "metadata": {},
   "outputs": [
    {
     "data": {
      "text/plain": [
       "<bound method DataFrame.to_html of                Property                          Value\n",
       "0  Equatorial Diameter:                       6,792 km\n",
       "1       Polar Diameter:                       6,752 km\n",
       "2                 Mass:  6.42 x 10^23 kg (10.7% Earth)\n",
       "3                Moons:            2 (Phobos & Deimos)\n",
       "4       Orbit Distance:       227,943,824 km (1.52 AU)\n",
       "5         Orbit Period:           687 days (1.9 years)\n",
       "6  Surface Temperature:                  -153 to 20 °C\n",
       "7         First Record:              2nd millennium BC\n",
       "8          Recorded By:           Egyptian astronomers>"
      ]
     },
     "execution_count": 11,
     "metadata": {},
     "output_type": "execute_result"
    }
   ],
   "source": [
    "df = pd.DataFrame({\"Property\": table[0][0], \"Value\": table[0][1]})\n",
    "df = df.to_html\n",
    "df"
   ]
  },
  {
   "cell_type": "code",
   "execution_count": 12,
   "metadata": {},
   "outputs": [],
   "source": [
    "url = \"https://astrogeology.usgs.gov/search/results?q=hemisphere+enhanced&k1=target&v1=Mars\"\n",
    "time.sleep(5)\n",
    "\n",
    "\n",
    "try:\n",
    "    browser.visit(url)\n",
    "except:\n",
    "    executable_path = {'executable_path': 'chromedriver.exe'}\n",
    "    browser = Browser('chrome', **executable_path, headless=False)\n",
    "    browser.visit(url)\n",
    "\n",
    "html = browser.html\n",
    "\n",
    "soup = bs(html, 'html.parser')"
   ]
  },
  {
   "cell_type": "code",
   "execution_count": 13,
   "metadata": {},
   "outputs": [
    {
     "name": "stdout",
     "output_type": "stream",
     "text": [
      "Cerberus Hemisphere \n",
      "https://astropedia.astrogeology.usgs.gov/download/Mars/Viking/cerberus_enhanced.tif/full.jpg\n",
      "Schiaparelli Hemisphere \n",
      "https://astropedia.astrogeology.usgs.gov/download/Mars/Viking/schiaparelli_enhanced.tif/full.jpg\n",
      "Syrtis Major Hemisphere \n",
      "https://astropedia.astrogeology.usgs.gov/download/Mars/Viking/syrtis_major_enhanced.tif/full.jpg\n",
      "Valles Marineris Hemisphere \n",
      "https://astropedia.astrogeology.usgs.gov/download/Mars/Viking/valles_marineris_enhanced.tif/full.jpg\n"
     ]
    }
   ],
   "source": [
    "load = \"y\"\n",
    "\n",
    "while load == \"y\":\n",
    "\n",
    "    if(browser.is_element_present_by_tag(\"section\", wait_time=5)):\n",
    "        \n",
    "        load = \"n\"\n",
    "        \n",
    "        results = soup.find_all('div', class_='item') \n",
    "        counter = -1\n",
    "\n",
    "        for result in results:\n",
    "            \n",
    "            counter += 1\n",
    "            \n",
    "            try:\n",
    "                time.sleep(4)\n",
    "                names = soup.find_all('h3')\n",
    "                name = names[counter].get_text().rstrip(\"Enhanced\")\n",
    "                print(name)\n",
    "                browser.find_by_tag(\"h3\")[counter].click()\n",
    "                \n",
    "                time.sleep(5)\n",
    "            except:\n",
    "                print(\"<h3> element was not found.\")\n",
    "                \n",
    "                \n",
    "            try:\n",
    "                \n",
    "                html2 = browser.html\n",
    "                soup2 = bs(html2, 'html.parser')\n",
    "                new_url = soup2.find(\"a\", string=\"Sample\").get('href')\n",
    "                browser.visit(new_url)\n",
    "                img_url = browser.url\n",
    "                print(img_url)\n",
    "                time.sleep(2)\n",
    "                browser.back()\n",
    "                time.sleep(2)\n",
    "                browser.back()\n",
    "                hemisphere_image_urls.append({\"title\": name, \"img_url\": img_url})\n",
    "                time.sleep(2)\n",
    "            except:\n",
    "                print(\"{a: text= 'Sample'} element was not found.\")\n",
    "                break\n",
    "\n",
    "        \n",
    "    else:\n",
    "        print(\"Parent Element <section> Not Found. The webpage has either changed or hasn't completed loading.\")\n",
    "        load = input(\"Try again: y/n?\").lower()[0]"
   ]
  },
  {
   "cell_type": "code",
   "execution_count": 14,
   "metadata": {},
   "outputs": [],
   "source": [
    "news_title = titles[0]\n",
    "news_p = teasers[0]\n",
    "mars_weather = tweets[0]\n",
    "hemisphere_image_urls = hemisphere_image_urls"
   ]
  },
  {
   "cell_type": "code",
   "execution_count": 15,
   "metadata": {},
   "outputs": [],
   "source": [
    "browser.quit()"
   ]
  }
 ],
 "metadata": {
  "kernelspec": {
   "display_name": "Python 3",
   "language": "python",
   "name": "python3"
  },
  "language_info": {
   "codemirror_mode": {
    "name": "ipython",
    "version": 3
   },
   "file_extension": ".py",
   "mimetype": "text/x-python",
   "name": "python",
   "nbconvert_exporter": "python",
   "pygments_lexer": "ipython3",
   "version": "3.6.7"
  }
 },
 "nbformat": 4,
 "nbformat_minor": 2
}
