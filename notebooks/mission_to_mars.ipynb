{
 "cells": [
  {
   "cell_type": "code",
   "execution_count": 1,
   "metadata": {},
   "outputs": [],
   "source": [
    "# Native\n",
    "import io\n",
    "import os\n",
    "import re\n",
    "import time\n",
    "\n",
    "# Third party\n",
    "import requests\n",
    "import pandas as pd\n",
    "from bs4 import BeautifulSoup as bs\n",
    "from splinter import Browser\n",
    "from splinter.exceptions import ElementDoesNotExist"
   ]
  },
  {
   "cell_type": "code",
   "execution_count": 10,
   "metadata": {
    "scrolled": true
   },
   "outputs": [],
   "source": [
    "def init_browser_bot(url, preload=False):\n",
    "    global browser, executable_path, html, soup\n",
    "    \n",
    "    try:\n",
    "        browser.visit(url)\n",
    "    except:\n",
    "        executable_path = {'executable_path': 'chromedriver.exe'}\n",
    "        browser = Browser('chrome', **executable_path, headless=False)\n",
    "        browser.visit(url)\n",
    "    \n",
    "    if preload:\n",
    "        time.sleep(3)\n",
    "        for _ in range(3):\n",
    "            browser.execute_script(\"window.scrollTo(0, document.body.scrollHeight);\")\n",
    "        time.sleep(2)\n",
    "    html = browser.html\n",
    "    soup = bs(html, 'html.parser')"
   ]
  },
  {
   "cell_type": "code",
   "execution_count": 6,
   "metadata": {
    "scrolled": true
   },
   "outputs": [
    {
     "data": {
      "text/plain": [
       "[(\"From JPL's Mailroom to Mars and Beyond\",\n",
       "  'Bill Allen has thrived as the mechanical systems design lead for three Mars rover missions, but he got his start as a teenager sorting letters for the NASA center.'),\n",
       " (\"5 Hidden Gems Are Riding Aboard NASA's Perseverance Rover\",\n",
       "  \"The symbols, mottos, and small objects added to the agency's newest Mars rover serve a variety of purposes, from functional to decorative.\"),\n",
       " ('MOXIE Could Help Future Rockets Launch Off Mars',\n",
       "  \"NASA's Perseverance rover carries a device to convert Martian air into oxygen that, if produced on a larger scale, could be used not just for breathing, but also for fuel.\"),\n",
       " (\"Hear Audio From NASA's Perseverance As It Travels Through Deep Space\",\n",
       "  \"The first to be rigged with microphones, the agency's latest Mars rover picked up the subtle sounds of its own inner workings during interplanetary flight.\"),\n",
       " ('Mars Is Getting a New Robotic Meteorologist',\n",
       "  \"Sensors on NASA's Perseverance will help prepare for future human exploration by taking weather measurements and studying dust particles.\"),\n",
       " ('Heat and Dust Help Launch Martian Water Into Space, Scientists Find',\n",
       "  'Scientists using an instrument aboard NASA’s Mars Atmosphere and Volatile EvolutioN, or MAVEN, spacecraft have discovered that water vapor near the surface of the Red Planet is lofted higher into the atmosphere than anyone expected was possible. '),\n",
       " (\"NASA's Curiosity Takes Selfie With 'Mary Anning' on the Red Planet\",\n",
       "  'The Mars rover has drilled three samples of rock in this clay-enriched region since arriving in July.'),\n",
       " ('Independent Review Indicates NASA Prepared for Mars Sample Return Campaign',\n",
       "  'NASA released an independent review report Tuesday indicating the agency is well positioned for its Mars Sample Return campaign to bring pristine samples from Mars to Earth for scientific study.'),\n",
       " (\"NASA's Perseverance Rover 100 Days Out\",\n",
       "  \"Mark your calendars: The agency's latest rover has only about 8,640,000 seconds to go before it touches down on the Red Planet, becoming history's next Mars car.\"),\n",
       " (\"NASA's Perseverance Rover Is Midway to Mars \",\n",
       "  \"Sometimes half measures can be a good thing – especially on a journey this long. The agency's latest rover only has about 146 million miles left to reach its destination.\"),\n",
       " ('Sensors on Mars 2020 Spacecraft Answer Long-Distance Call From Earth',\n",
       "  \"Instruments tailored to collect data during the descent of NASA's next rover through the Red Planet's atmosphere have been checked in flight.\"),\n",
       " (\"NASA's Perseverance Rover Bringing 3D-Printed Metal Parts to Mars\",\n",
       "  \"For hobbyists and makers, 3D printing expands creative possibilities; for specialized engineers, it's also key to next-generation spacecraft design.\"),\n",
       " (\"NASA InSight's 'Mole' Is Out of Sight\",\n",
       "  \"Now that the heat probe is just below the Martian surface, InSight's arm will scoop some additional soil on top to help it keep digging so it can take Mars' temperature.\"),\n",
       " (\"NASA's Perseverance Rover Will Peer Beneath Mars' Surface \",\n",
       "  \"The agency's newest rover will use the first ground-penetrating radar instrument on the Martian surface to help search for signs of past microbial life. \"),\n",
       " ('AI Is Helping Scientists Discover Fresh Craters on Mars',\n",
       "  \"It's the first time machine learning has been used to find previously unknown craters on the Red Planet.\"),\n",
       " (\"NASA's New Mars Rover Is Ready for Space Lasers\",\n",
       "  'Perseverance is one of a few Mars spacecraft carrying laser retroreflectors. The devices could provide new science and safer Mars landings in the future.'),\n",
       " (\"NASA's New Mars Rover Will Use X-Rays to Hunt Fossils\",\n",
       "  \"PIXL, an instrument on the end of the Perseverance rover's arm, will search for chemical fingerprints left by ancient microbes.\"),\n",
       " ('My Culture, My Voice',\n",
       "  'In honor of Hispanic Heritage Month, Christina Hernandez, an instrument engineer on the Mars 2020 mission, talks about her childhood and journey to NASA.'),\n",
       " (\"NASA Readies Perseverance Mars Rover's Earthly Twin \",\n",
       "  \"Did you know NASA's next Mars rover has a nearly identical sibling on Earth for testing? Even better, it's about to roll for the first time through a replica Martian landscape.\"),\n",
       " (\"NASA Engineers Checking InSight's Weather Sensors\",\n",
       "  'An electronics issue is suspected to be preventing the sensors from sharing their data about Mars weather with the spacecraft.'),\n",
       " (\"Follow NASA's Perseverance Rover in Real Time on Its Way to Mars\",\n",
       "  \"A crisply rendered web application can show you where the agency's Mars 2020 mission is right now as it makes its way to the Red Planet for a Feb. 18, 2021, landing.\"),\n",
       " ('NASA Establishes Board to Initially Review Mars Sample Return Plans',\n",
       "  'The board will assist with analysis of current plans and goals for one of the most difficult missions humanity has ever undertaken.'),\n",
       " (\"NASA's Ingenuity Mars Helicopter Recharges Its Batteries in Flight\",\n",
       "  'Headed to the Red Planet with the Perseverance rover, the pioneering helicopter is powered up for the first time in interplanetary space as part of a systems check.'),\n",
       " (\"Celebrate Mars Reconnaissance Orbiter's Views From Above\",\n",
       "  'Marking its 15th anniversary since launch, one of the oldest spacecraft at the Red Planet has provided glimpses of dust devils, avalanches, and more.'),\n",
       " (\"NASA's MAVEN Observes Martian Night Sky Pulsing in Ultraviolet Light\",\n",
       "  'Vast areas of the Martian night sky pulse in ultraviolet light, according to images from NASA’s MAVEN spacecraft. The results are being used to illuminate complex circulation patterns in the Martian atmosphere.'),\n",
       " (\"8 Martian Postcards to Celebrate Curiosity's Landing Anniversary\",\n",
       "  'The NASA rover touched down eight years ago, on Aug. 5, 2012, and will soon be joined by a second rover, Perseverance.'),\n",
       " ('NASA, ULA Launch Mars 2020 Perseverance Rover Mission to Red Planet',\n",
       "  \"The agency's Mars 2020 mission is on its way. It will land at Jezero Crater in about seven months, on Feb. 18, 2021. \"),\n",
       " (\"NASA's Perseverance Rover Will Carry First Spacesuit Materials to Mars\",\n",
       "  'In a Q&A, spacesuit designer Amy Ross explains how five samples, including a piece of helmet visor, will be tested aboard the rover, which is targeting a July 30 launch. '),\n",
       " (\"A New Video Captures the Science of NASA's Perseverance Mars Rover\",\n",
       "  'With a targeted launch date of July 30, the next robotic scientist NASA is sending to the to the Red Planet has big ambitions.'),\n",
       " ('NASA Invites Public to Share Excitement of Mars 2020 Perseverance Rover Launch',\n",
       "  'There are lots of ways to participate in the historic event, which is targeted for July 30.'),\n",
       " (\"NASA's Mars Perseverance Rover Passes Flight Readiness Review\",\n",
       "  \"\\u200bThe agency's Mars 2020 mission has one more big prelaunch review – the Launch Readiness Review, on July 27.\"),\n",
       " ('NASA to Broadcast Mars 2020 Perseverance Launch, Prelaunch Activities',\n",
       "  'Starting July 27, news activities will cover everything from mission engineering and science to returning samples from Mars to, of course, the launch itself.'),\n",
       " (\"6 Things to Know About NASA's Ingenuity Mars Helicopter\",\n",
       "  'The first helicopter attempting to fly on another planet is a marvel of engineering. Get up to speed with these key facts about its plans.'),\n",
       " ('Join NASA for the Launch of the Mars 2020 Perseverance Rover',\n",
       "  'No matter where you live, choose from a menu of activities to join NASA as we \"Countdown to Mars\" and launch the Perseverance rover to the Red Planet.'),\n",
       " (\"NASA's Perseverance Rover Attached to Atlas V Rocket\",\n",
       "  'Ready for its launch later in the month, the Mars-bound rover will touch terra firma no more.'),\n",
       " ('7 Things to Know About the Mars 2020 Perseverance Rover Mission',\n",
       "  \"NASA's next rover to the Red Planet is slated to launch no earlier than July 30. These highlights will get you up to speed on the ambitious mission.\"),\n",
       " (\"NASA's InSight Flexes Its Arm While Its 'Mole' Hits Pause\",\n",
       "  \"Now that the lander's robotic arm has helped the mole get underground, it will resume science activities that have been on hold.\"),\n",
       " (\"Curiosity Mars Rover's Summer Road Trip Has Begun\",\n",
       "  'After more than a year in the \"clay-bearing unit,\" Curiosity is making a mile-long journey around some deep sand so that it can explore higher up Mount Sharp.'),\n",
       " (\"How NASA's Mars Helicopter Will Reach the Red Planet's Surface\",\n",
       "  'The small craft will seek to prove that powered, controlled flight is possible on another planet. But just getting it onto the surface of Mars will take a whole lot of ingenuity.'),\n",
       " (\"The Launch Is Approaching for NASA's Next Mars Rover, Perseverance\",\n",
       "  \"The Red Planet's surface has been visited by eight NASA spacecraft. The ninth will be the first that includes a roundtrip ticket in its flight plan. \")]"
      ]
     },
     "execution_count": 6,
     "metadata": {},
     "output_type": "execute_result"
    }
   ],
   "source": [
    "def scrape_mars_NASA_articles():\n",
    "    url = 'https://mars.nasa.gov/news/?page=0&per_page=40&order=publish_date+desc%2Ccreated_at+desc&search=&category=19%2C165%2C184%2C204&blank_scope=Latest'\n",
    "    init_browser_bot(url)\n",
    "    \n",
    "    articles = []\n",
    "    pageHasLoaded = False\n",
    "\n",
    "    while not pageHasLoaded:\n",
    "        if(browser.is_element_present_by_css(\"li.slide\", wait_time=5)):\n",
    "            pageHasLoaded = True\n",
    "            results = soup.find_all('div', class_='list_text')\n",
    "\n",
    "            for result in results:\n",
    "                title = result.find('a').text\n",
    "                teaser = result.find(\"div\", class_=\"article_teaser_body\").text\n",
    "                articles.append((title, teaser))\n",
    "                # print(f\"{title}:\\n{teaser}\\n\")\n",
    "                \n",
    "    return articles\n",
    "\n",
    "scrape_mars_NASA_articles()"
   ]
  },
  {
   "cell_type": "code",
   "execution_count": 7,
   "metadata": {
    "scrolled": true
   },
   "outputs": [
    {
     "name": "stderr",
     "output_type": "stream",
     "text": [
      "C:\\Users\\theod\\Anaconda3\\envs\\MissionToMars\\lib\\site-packages\\splinter\\driver\\webdriver\\__init__.py:490: FutureWarning: browser.find_link_by_partial_text is deprecated. Use browser.links.find_by_partial_text instead.\n",
      "  warnings.warn(\n",
      "C:\\Users\\theod\\Anaconda3\\envs\\MissionToMars\\lib\\site-packages\\splinter\\driver\\webdriver\\__init__.py:482: FutureWarning: browser.find_link_by_partial_href is deprecated. Use browser.links.find_by_partial_href instead.\n",
      "  warnings.warn(\n"
     ]
    },
    {
     "data": {
      "text/plain": [
       "'https://photojournal.jpl.nasa.gov/jpeg/PIA18903.jpg'"
      ]
     },
     "execution_count": 7,
     "metadata": {},
     "output_type": "execute_result"
    }
   ],
   "source": [
    "def scrape_mars_NASA_featured_image():\n",
    "    url = \"https://www.jpl.nasa.gov/spaceimages/?search=&category=Mars\"\n",
    "    init_browser_bot(url)\n",
    "    \n",
    "    featured_image_url = \"\"\n",
    "    pageHasLoaded = False\n",
    "\n",
    "    while not pageHasLoaded:\n",
    "        if(browser.is_element_present_by_id(\"page\", wait_time=5)):\n",
    "            pageHasLoaded = True\n",
    "            browser.click_link_by_id('full_image')\n",
    "            browser.click_link_by_partial_text('more info')\n",
    "            browser.click_link_by_partial_href('//photojournal.jpl.nasa.gov/jpeg/')\n",
    "            featured_image_url = browser.url\n",
    "            # print(f'Featured image url: {featured_image_url}')\n",
    "            \n",
    "    return featured_image_url\n",
    "            \n",
    "scrape_mars_NASA_featured_image()"
   ]
  },
  {
   "cell_type": "code",
   "execution_count": 14,
   "metadata": {
    "scrolled": true
   },
   "outputs": [
    {
     "data": {
      "text/plain": [
       "['InSight sol 689 (2020-11-03) low -96.8ºC (-142.2ºF) high -18.4ºC (-1.0ºF)\\nwinds from the WNW at 8.5 m/s (18.9 mph) gusting to 25.7 m/s (57.5 mph)\\npressure at 7.50 hPa ',\n",
       " 'InSight sol 688 (2020-11-02) low -95.7ºC (-140.2ºF) high -12.8ºC (9.0ºF)\\nwinds from the WNW at 5.4 m/s (12.2 mph) gusting to 17.2 m/s (38.5 mph)\\npressure at 7.40 hPa ',\n",
       " 'InSight sol 687 (2020-11-01) pressure at 7.40 hPa ',\n",
       " 'InSight sol 686 (2020-10-31) pressure at 7.40 hPa ',\n",
       " 'InSight sol 685 (2020-10-30) low -97.2ºC (-142.9ºF) high -11.9ºC (10.6ºF)\\nwinds from the W at 6.4 m/s (14.3 mph) gusting to 18.3 m/s (41.0 mph)\\npressure at 7.40 hPa ',\n",
       " 'InSight sol 684 (2020-10-29) low -95.5ºC (-139.8ºF) high -17.9ºC (-0.1ºF)\\npressure at 7.40 hPa ',\n",
       " 'InSight sol 681 (2020-10-25) low -95.4ºC (-139.8ºF) high -4.4ºC (24.0ºF)\\nwinds from the WNW at 5.6 m/s (12.6 mph) gusting to 18.6 m/s (41.6 mph)\\npressure at 7.40 hPa ',\n",
       " 'InSight sol 676 (2020-10-21) low -96.9ºC (-142.4ºF) high -16.5ºC (2.3ºF)\\nwinds from the W at 8.9 m/s (19.8 mph) gusting to 26.9 m/s (60.2 mph)\\npressure at 7.50 hPa ',\n",
       " 'InSight sol 675 (2020-10-19) low -96.9ºC (-142.4ºF) high -15.9ºC (3.4ºF)\\nwinds from the WNW at 7.3 m/s (16.3 mph) gusting to 22.5 m/s (50.2 mph)\\npressure at 7.50 hPa ',\n",
       " 'InSight sol 674 (2020-10-19) low -96.0ºC (-140.8ºF) high -7.4ºC (18.6ºF)\\nwinds from the SW at 5.9 m/s (13.1 mph) gusting to 18.5 m/s (41.3 mph)\\npressure at 7.50 hPa ',\n",
       " 'InSight sol 673 (2020-10-17) low -96.7ºC (-142.0ºF) high -9.9ºC (14.2ºF)\\nwinds from the WNW at 5.6 m/s (12.6 mph) gusting to 18.9 m/s (42.2 mph)\\npressure at 7.50 hPa ',\n",
       " 'InSight sol 672 (2020-10-16) low -96.8ºC (-142.3ºF) high -6.5ºC (20.3ºF)\\nwinds from the WNW at 4.7 m/s (10.6 mph) gusting to 16.0 m/s (35.8 mph)\\npressure at 7.50 hPa ',\n",
       " 'InSight sol 671 (2020-10-15) low -96.0ºC (-140.7ºF) high -8.5ºC (16.6ºF)\\nwinds from the WNW at 5.7 m/s (12.7 mph) gusting to 19.1 m/s (42.7 mph)\\npressure at 7.50 hPa ',\n",
       " 'InSight sol 670 (2020-10-15) low -95.8ºC (-140.5ºF) high -15.8ºC (3.5ºF)\\nwinds from the WNW at 8.2 m/s (18.3 mph) gusting to 23.1 m/s (51.6 mph)\\npressure at 7.50 hPa ']"
      ]
     },
     "execution_count": 14,
     "metadata": {},
     "output_type": "execute_result"
    }
   ],
   "source": [
    "def scrape_mars_weather_tweets():\n",
    "    url = \"https://twitter.com/marswxreport?lang=en\"\n",
    "    init_browser_bot(url, True)\n",
    "    \n",
    "    tweets = []\n",
    "    pageHasLoaded = False\n",
    "\n",
    "    while not pageHasLoaded:\n",
    "        if(browser.is_element_present_by_css('div[data-testid=\"tweet\"]', wait_time=5)):\n",
    "            pageHasLoaded = True\n",
    "            results = re.findall(r'InSight sol.*?<', html, re.DOTALL)\n",
    "            \n",
    "            for result in results:\n",
    "                    tweet = result\n",
    "                    if 'InSight sol' in tweet:\n",
    "                        tweets.append(tweet[:-1].replace(\"hPa\", \"hPa \"))\n",
    "\n",
    "    return tweets\n",
    "scrape_mars_weather_tweets()"
   ]
  },
  {
   "cell_type": "code",
   "execution_count": 20,
   "metadata": {
    "scrolled": true
   },
   "outputs": [
    {
     "name": "stdout",
     "output_type": "stream",
     "text": [
      "<table border=\"1\" class=\"dataframe table table-striped\">\n",
      "  <thead>\n",
      "    <tr style=\"text-align: right;\">\n",
      "      <th></th>\n",
      "      <th>Value</th>\n",
      "    </tr>\n",
      "    <tr>\n",
      "      <th>Property</th>\n",
      "      <th></th>\n",
      "    </tr>\n",
      "  </thead>\n",
      "  <tbody>\n",
      "    <tr>\n",
      "      <th>Equatorial Diameter:</th>\n",
      "      <td>6,792 km</td>\n",
      "    </tr>\n",
      "    <tr>\n",
      "      <th>Polar Diameter:</th>\n",
      "      <td>6,752 km</td>\n",
      "    </tr>\n",
      "    <tr>\n",
      "      <th>Mass:</th>\n",
      "      <td>6.39 × 10^23 kg (0.11 Earths)</td>\n",
      "    </tr>\n",
      "    <tr>\n",
      "      <th>Moons:</th>\n",
      "      <td>2 (Phobos &amp; Deimos)</td>\n",
      "    </tr>\n",
      "    <tr>\n",
      "      <th>Orbit Distance:</th>\n",
      "      <td>227,943,824 km (1.38 AU)</td>\n",
      "    </tr>\n",
      "    <tr>\n",
      "      <th>Orbit Period:</th>\n",
      "      <td>687 days (1.9 years)</td>\n",
      "    </tr>\n",
      "    <tr>\n",
      "      <th>Surface Temperature:</th>\n",
      "      <td>-87 to -5 °C</td>\n",
      "    </tr>\n",
      "    <tr>\n",
      "      <th>First Record:</th>\n",
      "      <td>2nd millennium BC</td>\n",
      "    </tr>\n",
      "    <tr>\n",
      "      <th>Recorded By:</th>\n",
      "      <td>Egyptian astronomers</td>\n",
      "    </tr>\n",
      "  </tbody>\n",
      "</table>\n"
     ]
    }
   ],
   "source": [
    "def scrape_mars_space_facts_html_table():\n",
    "    url = \"https://space-facts.com/mars/\"\n",
    "    space_facts_html = pd.read_html(url)\n",
    "    stringBuffer = io.StringIO()\n",
    "    facts_df = pd.DataFrame({\"Property\": space_facts_html[0][0], \"Value\": space_facts_html[0][1]})\n",
    "    facts_df.set_index(\"Property\").to_html(buf=stringBuffer, classes='table table-striped')\n",
    "    facts_html_table = stringBuffer.getvalue()\n",
    "    \n",
    "    return facts_html_table\n",
    "\n",
    "scrape_mars_space_facts_html_table()"
   ]
  },
  {
   "cell_type": "code",
   "execution_count": 21,
   "metadata": {},
   "outputs": [
    {
     "name": "stdout",
     "output_type": "stream",
     "text": [
      "Cerberus Hemisphere \n",
      "https://astropedia.astrogeology.usgs.gov/download/Mars/Viking/cerberus_enhanced.tif/full.jpg\n",
      "{a: text= 'Sample'} element was not found.\n"
     ]
    }
   ],
   "source": [
    "def get_mars_hemispheres():\n",
    "    url = \"https://astrogeology.usgs.gov/search/results?q=hemisphere+enhanced&k1=target&v1=Mars\"\n",
    "    init_browser_bot(url)\n",
    "    \n",
    "    pageHasLoaded = False\n",
    "\n",
    "    while not pageHasLoaded:\n",
    "        if(browser.is_element_present_by_tag(\"section\", wait_time=5)):\n",
    "            pageHasLoaded = True\n",
    "            results = soup.find_all('div', class_='item') \n",
    "            counter = -1\n",
    "\n",
    "            for result in results:\n",
    "                counter += 1\n",
    "\n",
    "                names = soup.find_all('h3')\n",
    "                name = names[counter].get_text().rstrip(\"Enhanced\")\n",
    "                print(name)\n",
    "\n",
    "                browser.find_by_tag(\"h3\")[counter].click()\n",
    "                html2 = browser.html\n",
    "                soup2 = bs(html2, 'html.parser')\n",
    "                new_url = soup2.find(\"a\", string=\"Sample\").get('href')\n",
    "                browser.visit(new_url)\n",
    "                img_url = browser.url\n",
    "                print(img_url)\n",
    "                hemisphere_image_urls.append({\"title\": name, \"img_url\": img_url})\n",
    "\n",
    "                browser.back()\n",
    "                browser.back()\n",
    "   \n",
    "get_mars_hemispheres()"
   ]
  },
  {
   "cell_type": "code",
   "execution_count": 31,
   "metadata": {},
   "outputs": [],
   "source": [
    "news_title = titles[0]\n",
    "news_p = teasers[0]\n",
    "mars_weather = tweets[0]\n",
    "hemisphere_image_urls = hemisphere_image_urls"
   ]
  },
  {
   "cell_type": "code",
   "execution_count": 32,
   "metadata": {},
   "outputs": [],
   "source": [
    "browser.quit()"
   ]
  }
 ],
 "metadata": {
  "kernelspec": {
   "display_name": "Python 3",
   "language": "python",
   "name": "python3"
  },
  "language_info": {
   "codemirror_mode": {
    "name": "ipython",
    "version": 3
   },
   "file_extension": ".py",
   "mimetype": "text/x-python",
   "name": "python",
   "nbconvert_exporter": "python",
   "pygments_lexer": "ipython3",
   "version": "3.8.5"
  }
 },
 "nbformat": 4,
 "nbformat_minor": 2
}
