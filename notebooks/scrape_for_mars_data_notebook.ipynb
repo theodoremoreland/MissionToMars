{
 "cells": [
  {
   "cell_type": "code",
   "execution_count": 1,
   "metadata": {},
   "outputs": [],
   "source": [
    "# Native\n",
    "import io\n",
    "import os\n",
    "import re\n",
    "import time\n",
    "\n",
    "# Third party\n",
    "import requests\n",
    "import pandas as pd\n",
    "from bs4 import BeautifulSoup as bs\n",
    "from splinter import Browser\n",
    "from splinter.exceptions import ElementDoesNotExist"
   ]
  },
  {
   "cell_type": "code",
   "execution_count": 2,
   "metadata": {
    "scrolled": true
   },
   "outputs": [],
   "source": [
    "def init_browser_bot(url, preload=False):\n",
    "    \"\"\"Each time init_browser_bot runs, it'll reference the variables from the previous init.\n",
    "    Functions that reference the browser, html, or soup variables without assignments will default\n",
    "    to the init_broswer_bot's variables, otherwise said variables are limited to local scope and therefore\n",
    "    require global keyword declarations.\n",
    "    \"\"\"\n",
    "    \n",
    "    global browser, executable_path, html, soup\n",
    "    \n",
    "    try:\n",
    "        browser.visit(url)\n",
    "    except:\n",
    "        executable_path = {'executable_path': 'chromedriver.exe'}\n",
    "        browser = Browser('chrome', **executable_path, headless=False)\n",
    "        browser.driver.set_window_size(1280, 720)\n",
    "        browser.visit(url)\n",
    "       \n",
    "    if preload:\n",
    "        time.sleep(1)\n",
    "        for _ in range(3):\n",
    "            browser.execute_script(\"window.scrollTo(0, document.body.scrollHeight);\")\n",
    "        time.sleep(1)\n",
    "        \n",
    "    html = browser.html\n",
    "    soup = bs(html, 'html.parser')"
   ]
  },
  {
   "cell_type": "code",
   "execution_count": 3,
   "metadata": {
    "scrolled": true
   },
   "outputs": [],
   "source": [
    "def scrape_mars_NASA_articles():\n",
    "    url = 'https://mars.nasa.gov/news/?page=0&per_page=40&order=publish_date+desc%2Ccreated_at+desc&search=&category=19%2C165%2C184%2C204&blank_scope=Latest'\n",
    "    init_browser_bot(url, True)\n",
    "    \n",
    "    articles = []\n",
    "    pageHasLoaded = False\n",
    "\n",
    "    while not pageHasLoaded:\n",
    "        if(browser.is_element_present_by_css(\"div.list_text\", wait_time=5_000)):\n",
    "            pageHasLoaded = True\n",
    "            results = soup.find_all('div', class_='list_text')\n",
    "\n",
    "            for result in results:\n",
    "                title = result.find('a').text\n",
    "                teaser = result.find(\"div\", class_=\"article_teaser_body\").text\n",
    "                articles.append({\"title\": title, \"teaser\": teaser})\n",
    "                \n",
    "    return articles"
   ]
  },
  {
   "cell_type": "code",
   "execution_count": 4,
   "metadata": {
    "scrolled": true
   },
   "outputs": [],
   "source": [
    "def scrape_mars_NASA_featured_image():\n",
    "    url = \"https://www.jpl.nasa.gov/spaceimages/?search=&category=Mars\"\n",
    "    init_browser_bot(url)\n",
    "    \n",
    "    featured_image_url = \"\"\n",
    "    pageHasLoaded = False\n",
    "\n",
    "    while not pageHasLoaded:\n",
    "        if(browser.is_element_present_by_id(\"page\", wait_time=5)):\n",
    "            pageHasLoaded = True\n",
    "            browser.click_link_by_id('full_image')\n",
    "            browser.click_link_by_partial_text('more info')\n",
    "            browser.click_link_by_partial_href('//photojournal.jpl.nasa.gov/jpeg/')\n",
    "            featured_image_url = browser.url\n",
    "            # print(f'Featured image url: {featured_image_url}')\n",
    "            \n",
    "    return featured_image_url"
   ]
  },
  {
   "cell_type": "code",
   "execution_count": 5,
   "metadata": {
    "scrolled": true
   },
   "outputs": [],
   "source": [
    "def scrape_mars_weather_tweets():\n",
    "    url = \"https://twitter.com/marswxreport?lang=en\"\n",
    "    init_browser_bot(url, True)\n",
    "    \n",
    "    tweets = []\n",
    "    pageHasLoaded = False\n",
    "\n",
    "    while not pageHasLoaded:\n",
    "        if(browser.is_element_present_by_css('div[data-testid=\"tweet\"]', wait_time=5)):\n",
    "            pageHasLoaded = True\n",
    "            results = re.findall(r'InSight sol.*?<', html, re.DOTALL)\n",
    "            \n",
    "            for result in results:\n",
    "                    tweet = result\n",
    "                    if 'InSight sol' in tweet:\n",
    "                        tweets.append(tweet[:-1].replace(\"hPa\", \"hPa \"))\n",
    "\n",
    "    return tweets"
   ]
  },
  {
   "cell_type": "code",
   "execution_count": 6,
   "metadata": {
    "scrolled": true
   },
   "outputs": [],
   "source": [
    "def scrape_mars_space_facts_html_table():\n",
    "    stringBuffer = io.StringIO()\n",
    "    url = \"https://space-facts.com/mars/\"\n",
    "    space_facts_html = pd.read_html(url)\n",
    "    \n",
    "    facts_df = pd.DataFrame({\"Property\": space_facts_html[0][0], \"Value\": space_facts_html[0][1]})\n",
    "    facts_df.set_index(\"Property\").to_html(buf=stringBuffer, classes='table table-striped')\n",
    "    \n",
    "    facts_html_table = stringBuffer.getvalue()\n",
    "    \n",
    "    return facts_html_table"
   ]
  },
  {
   "cell_type": "code",
   "execution_count": 7,
   "metadata": {},
   "outputs": [],
   "source": [
    "def scrape_mars_hemisphere_image_urls():\n",
    "    global browser, html, soup\n",
    "    \n",
    "    url = \"https://astrogeology.usgs.gov/search/results?q=hemisphere+enhanced&k1=target&v1=Mars\"\n",
    "    init_browser_bot(url)\n",
    "    \n",
    "    hemisphere_image_urls = []\n",
    "    pageHasLoaded = False\n",
    "\n",
    "    while not pageHasLoaded:\n",
    "        if(browser.is_element_present_by_tag(\"section\", wait_time=5)):\n",
    "            pageHasLoaded = True\n",
    "            results = soup.find_all('div', class_='item') \n",
    "            counter = 0\n",
    "\n",
    "            for result in results:\n",
    "                names = soup.find_all('h3')\n",
    "                name = names[counter].get_text().rstrip(\"Enhanced\")\n",
    "\n",
    "                browser.find_by_tag(\"h3\")[counter].click()\n",
    "                html = browser.html\n",
    "                soup = bs(html, 'html.parser')\n",
    "                \n",
    "                new_url = soup.find(\"a\", string=\"Sample\").get('href')\n",
    "                browser.visit(new_url)\n",
    "                img_url = browser.url\n",
    "                \n",
    "                hemisphere_image_urls.append({\"title\": name, \"img_url\": img_url})\n",
    "\n",
    "                browser.back()\n",
    "                browser.back()\n",
    "                html = browser.html\n",
    "                soup = bs(html, 'html.parser')\n",
    "                counter += 1\n",
    "    return hemisphere_image_urls"
   ]
  },
  {
   "cell_type": "code",
   "execution_count": 8,
   "metadata": {},
   "outputs": [
    {
     "name": "stdout",
     "output_type": "stream",
     "text": [
      "From JPL's Mailroom to Mars and Beyond:\n",
      "Bill Allen has thrived as the mechanical systems design lead for three Mars rover missions, but he got his start as a teenager sorting letters for the NASA center.\n"
     ]
    }
   ],
   "source": [
    "mars_NASA_articles = scrape_mars_NASA_articles()\n",
    "newest_mars_NASA_article_title = mars_NASA_articles[0][\"title\"]\n",
    "newest_mars_NASA_article_teaser = mars_NASA_articles[0][\"teaser\"]\n",
    "print(f\"{newest_mars_NASA_article_title}:\\n{newest_mars_NASA_article_teaser}\")"
   ]
  },
  {
   "cell_type": "code",
   "execution_count": 9,
   "metadata": {},
   "outputs": [
    {
     "name": "stdout",
     "output_type": "stream",
     "text": [
      "InSight sol 704 (2020-11-18) low -97.1ºC (-142.7ºF) high -8.2ºC (17.2ºF)\n",
      "winds from the W at 4.7 m/s (10.5 mph) gusting to 14.1 m/s (31.6 mph)\n",
      "pressure at 7.40 hPa \n"
     ]
    }
   ],
   "source": [
    "mars_weather = scrape_mars_weather_tweets()[0]\n",
    "print(mars_weather)"
   ]
  },
  {
   "cell_type": "code",
   "execution_count": 10,
   "metadata": {},
   "outputs": [
    {
     "name": "stdout",
     "output_type": "stream",
     "text": [
      "<table border=\"1\" class=\"dataframe table table-striped\">\n",
      "  <thead>\n",
      "    <tr style=\"text-align: right;\">\n",
      "      <th></th>\n",
      "      <th>Value</th>\n",
      "    </tr>\n",
      "    <tr>\n",
      "      <th>Property</th>\n",
      "      <th></th>\n",
      "    </tr>\n",
      "  </thead>\n",
      "  <tbody>\n",
      "    <tr>\n",
      "      <th>Equatorial Diameter:</th>\n",
      "      <td>6,792 km</td>\n",
      "    </tr>\n",
      "    <tr>\n",
      "      <th>Polar Diameter:</th>\n",
      "      <td>6,752 km</td>\n",
      "    </tr>\n",
      "    <tr>\n",
      "      <th>Mass:</th>\n",
      "      <td>6.39 × 10^23 kg (0.11 Earths)</td>\n",
      "    </tr>\n",
      "    <tr>\n",
      "      <th>Moons:</th>\n",
      "      <td>2 (Phobos &amp; Deimos)</td>\n",
      "    </tr>\n",
      "    <tr>\n",
      "      <th>Orbit Distance:</th>\n",
      "      <td>227,943,824 km (1.38 AU)</td>\n",
      "    </tr>\n",
      "    <tr>\n",
      "      <th>Orbit Period:</th>\n",
      "      <td>687 days (1.9 years)</td>\n",
      "    </tr>\n",
      "    <tr>\n",
      "      <th>Surface Temperature:</th>\n",
      "      <td>-87 to -5 °C</td>\n",
      "    </tr>\n",
      "    <tr>\n",
      "      <th>First Record:</th>\n",
      "      <td>2nd millennium BC</td>\n",
      "    </tr>\n",
      "    <tr>\n",
      "      <th>Recorded By:</th>\n",
      "      <td>Egyptian astronomers</td>\n",
      "    </tr>\n",
      "  </tbody>\n",
      "</table>\n"
     ]
    }
   ],
   "source": [
    "mars_space_facts_html_table = scrape_mars_space_facts_html_table()\n",
    "print(mars_space_facts_html_table)"
   ]
  },
  {
   "cell_type": "code",
   "execution_count": 11,
   "metadata": {},
   "outputs": [
    {
     "name": "stdout",
     "output_type": "stream",
     "text": [
      "[{'title': 'Cerberus Hemisphere ', 'img_url': 'https://astropedia.astrogeology.usgs.gov/download/Mars/Viking/cerberus_enhanced.tif/full.jpg'}, {'title': 'Schiaparelli Hemisphere ', 'img_url': 'https://astropedia.astrogeology.usgs.gov/download/Mars/Viking/schiaparelli_enhanced.tif/full.jpg'}, {'title': 'Syrtis Major Hemisphere ', 'img_url': 'https://astropedia.astrogeology.usgs.gov/download/Mars/Viking/syrtis_major_enhanced.tif/full.jpg'}, {'title': 'Valles Marineris Hemisphere ', 'img_url': 'https://astropedia.astrogeology.usgs.gov/download/Mars/Viking/valles_marineris_enhanced.tif/full.jpg'}]\n"
     ]
    }
   ],
   "source": [
    "mars_hemisphere_image_urls = scrape_mars_hemisphere_image_urls()\n",
    "print(mars_hemisphere_image_urls)"
   ]
  },
  {
   "cell_type": "code",
   "execution_count": 12,
   "metadata": {},
   "outputs": [],
   "source": [
    "browser.quit()"
   ]
  }
 ],
 "metadata": {
  "kernelspec": {
   "display_name": "Python 3",
   "language": "python",
   "name": "python3"
  },
  "language_info": {
   "codemirror_mode": {
    "name": "ipython",
    "version": 3
   },
   "file_extension": ".py",
   "mimetype": "text/x-python",
   "name": "python",
   "nbconvert_exporter": "python",
   "pygments_lexer": "ipython3",
   "version": "3.8.5"
  }
 },
 "nbformat": 4,
 "nbformat_minor": 2
}
